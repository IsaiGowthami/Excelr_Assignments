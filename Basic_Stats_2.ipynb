{
  "nbformat": 4,
  "nbformat_minor": 0,
  "metadata": {
    "colab": {
      "provenance": [],
      "authorship_tag": "ABX9TyOzauS/rp1hMjvWbglqlBC/",
      "include_colab_link": true
    },
    "kernelspec": {
      "name": "python3",
      "display_name": "Python 3"
    },
    "language_info": {
      "name": "python"
    }
  },
  "cells": [
    {
      "cell_type": "markdown",
      "metadata": {
        "id": "view-in-github",
        "colab_type": "text"
      },
      "source": [
        "<a href=\"https://colab.research.google.com/github/IsaiGowthami/Excelr_Assignments/blob/main/Basic_Stats_2.ipynb\" target=\"_parent\"><img src=\"https://colab.research.google.com/assets/colab-badge.svg\" alt=\"Open In Colab\"/></a>"
      ]
    },
    {
      "cell_type": "code",
      "execution_count": null,
      "metadata": {
        "id": "QrutTTCGOgnh"
      },
      "outputs": [],
      "source": [
        "#importing the libraries\n",
        "import pandas as pd\n",
        "import scipy\n",
        "import numpy as np\n",
        "from scipy import stats"
      ]
    },
    {
      "cell_type": "markdown",
      "source": [
        "A. Build 99% confidence interval using sample standard deviation"
      ],
      "metadata": {
        "id": "fWvfnoEVToJr"
      }
    },
    {
      "cell_type": "code",
      "source": [
        "data=[1.13, 1.55, 1.43, 0.92, 1.25, 1.36, 1.32, 0.85, 1.07, 1.48, 1.20, 1.33, 1.18, 1.22, 1.29]\n",
        "n=len(data)\n",
        "mean=np.mean(data)\n",
        "std=np.std(data)\n",
        "srootn=std/np.sqrt(n)\n",
        "df=n-1"
      ],
      "metadata": {
        "id": "QKT3ZIsuQJgC"
      },
      "execution_count": null,
      "outputs": []
    },
    {
      "cell_type": "code",
      "source": [
        "#constructing the confidence interval\n",
        "confidence_interval=stats.t.interval(0.99,df,mean,srootn)\n",
        "print(\"confidence interval: \",confidence_interval,\" at 99% confidence level\")"
      ],
      "metadata": {
        "colab": {
          "base_uri": "https://localhost:8080/"
        },
        "id": "EjFXC76jSlPz",
        "outputId": "b2cd645f-ee82-4343-ca97-b466c1e2deff"
      },
      "execution_count": null,
      "outputs": [
        {
          "output_type": "stream",
          "name": "stdout",
          "text": [
            "confidence interval:  (1.095231668626123, 1.3821016647072102)  at 99% confidence level\n"
          ]
        }
      ]
    },
    {
      "cell_type": "markdown",
      "source": [
        "In constructing the confidence interval for the sample data at 99% confidence interval using sample std deviation, I have used specifically t-distribution as there are chances of population mean not necessarily be equal to sample mean as a result of which there might be some errors in calculating the confidence interval, So to overcome this issue we generally use t dsitribution.\n",
        "\n",
        "The steps that i have followed here are as follows:\n",
        "\n",
        "->imported all the necessary libraries that were required in order to calculate the confidence level.\n",
        "\n",
        "-> calculated the mean, sample std deviation.\n",
        "\n",
        "-> directly used stats.t.interval(1-alpha,degrees of freedom, mean, s/sqrt(n)) to construct the confidence interval\n",
        "\n",
        "\n"
      ],
      "metadata": {
        "id": "lQj2384IT0Z7"
      }
    },
    {
      "cell_type": "markdown",
      "source": [
        "B. Build 99% confidence interval using known population standard deviation"
      ],
      "metadata": {
        "id": "okkei2wBV4Ew"
      }
    },
    {
      "cell_type": "code",
      "source": [
        "std1=0.2\n",
        "s=std1/np.sqrt(n)\n",
        "confidence_int=stats.norm.interval(0.99,mean,s)\n",
        "print(\"confidence interval:\", confidence_int,\"at 99% confidence level\")"
      ],
      "metadata": {
        "colab": {
          "base_uri": "https://localhost:8080/"
        },
        "id": "jFWF-SltTHIV",
        "outputId": "0ae617d1-6945-421d-9a5d-64dd14e622a3"
      },
      "execution_count": null,
      "outputs": [
        {
          "output_type": "stream",
          "name": "stdout",
          "text": [
            "confidence interval: (1.1056514133957607, 1.3716819199375725) at 99% confidence level\n"
          ]
        }
      ]
    },
    {
      "cell_type": "code",
      "source": [],
      "metadata": {
        "id": "87QyTmmxX4hN"
      },
      "execution_count": null,
      "outputs": []
    }
  ]
}