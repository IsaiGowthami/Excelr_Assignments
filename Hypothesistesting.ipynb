{
  "nbformat": 4,
  "nbformat_minor": 0,
  "metadata": {
    "colab": {
      "provenance": [],
      "authorship_tag": "ABX9TyMXAeGieduTZFcyumAkW1LI"
    },
    "kernelspec": {
      "name": "python3",
      "display_name": "Python 3"
    },
    "language_info": {
      "name": "python"
    }
  },
  "cells": [
    {
      "cell_type": "code",
      "execution_count": null,
      "metadata": {
        "id": "5WnHtskSgPaR"
      },
      "outputs": [],
      "source": [
        "import math\n",
        "import scipy.stats as stats"
      ]
    },
    {
      "cell_type": "code",
      "source": [
        "samplemean_cost=3050 #sample mean weekly cost\n",
        "mean_units=600 #theoretical mean units produced\n",
        "std_units=25 # std deviation of units produced\n",
        "sample_size=25 #25 restaurants\n",
        "alpha=0.05\n",
        "theoretical_meancost= 1000 + 5 * mean_units #theoretical cost\n",
        "std_cost=5*std_units # W= 1000 + 5X\n",
        "\n",
        "t=(samplemean_cost-theoretical_meancost)/(std_cost/math.sqrt(sample_size))\n",
        "print(\"t stat:\",t)\n",
        "\n",
        "critical_value=stats.norm.ppf(1-alpha)\n",
        "print(\"crticial value\", critical_value)\n",
        "dec=\"reject the null hypothesis\" if t>critical_value else \"accept the null hypothesis\"\n",
        "print(\"decision:\",dec)\n",
        "conclusion=(\"There is strong evidence to support the restaurant owners' claim that the weekly operating costs are higher than the model suggests.\"\n",
        "if dec==\"reject the null hypothesis\"\n",
        "else \"There is not enough evidence to support the restaurant owners' claim that the weekly operating costs are higher than the model suggests.\")\n",
        "print(\"conclusion:\", conclusion)\n"
      ],
      "metadata": {
        "colab": {
          "base_uri": "https://localhost:8080/"
        },
        "id": "RQmav_uWktEv",
        "outputId": "b0b1ceb6-5190-4441-86db-52dd10b2c0db"
      },
      "execution_count": null,
      "outputs": [
        {
          "output_type": "stream",
          "name": "stdout",
          "text": [
            "t stat: -38.0\n",
            "crticial value 1.6448536269514722\n",
            "decision: accept the null hypothesis\n",
            "conclusion: There is not enough evidence to support the restaurant owners' claim that the weekly operating costs are higher than the model suggests.\n"
          ]
        }
      ]
    },
    {
      "cell_type": "markdown",
      "source": [
        "Null Hypothesis (H₀): The observed weekly operating costs are not higher than the theoretical model.\n",
        "\n",
        "Alternative Hypothesis (H₁): The observed weekly operating costs are higher than the theoretical model.\n",
        "\n",
        "Conclusion:\n",
        "\n",
        "Test Statistic (t): The calculated test statistic is -38.0.\n",
        "\n",
        "Critical Value (Z): The critical value for a one-tailed test with alpha = 0.05\n",
        "is 1.645.\n",
        "\n",
        "Decision: Since the test statistic (-38.0) is not greater than the critical value (1.645), we fail to reject the null hypothesis.\n",
        "\n",
        "Conclusion: There is not enough evidence to support the restaurant owners' claim that the weekly operating costs are higher than predicted by the cost model."
      ],
      "metadata": {
        "id": "nEw3TqqHnQrc"
      }
    }
  ]
}