{
  "nbformat": 4,
  "nbformat_minor": 0,
  "metadata": {
    "colab": {
      "provenance": [],
      "authorship_tag": "ABX9TyManJDfrPboR1jkkzVUaGQG",
      "include_colab_link": true
    },
    "kernelspec": {
      "name": "python3",
      "display_name": "Python 3"
    },
    "language_info": {
      "name": "python"
    }
  },
  "cells": [
    {
      "cell_type": "markdown",
      "metadata": {
        "id": "view-in-github",
        "colab_type": "text"
      },
      "source": [
        "<a href=\"https://colab.research.google.com/github/IsaiGowthami/Excelr_Assignments/blob/main/chisquaretest.ipynb\" target=\"_parent\"><img src=\"https://colab.research.google.com/assets/colab-badge.svg\" alt=\"Open In Colab\"/></a>"
      ]
    },
    {
      "cell_type": "code",
      "source": [
        "import pandas as pd\n",
        "from scipy.stats import chi2_contingency"
      ],
      "metadata": {
        "id": "9fb-4OFbI321"
      },
      "execution_count": null,
      "outputs": []
    },
    {
      "cell_type": "code",
      "source": [
        "data={'smart Thermostat':[50,80,60,30,20],\n",
        "      'smart light':[70,100,90,50,50]}\n",
        "satisfaction=['Very Satisfied','Satisfied','Neutral','Unsatisfied','Very Unsatisfied']\n",
        "df=pd.DataFrame(data, index=satisfaction)\n",
        "chi2_stat,p_value,dof,expected=chi2_contingency(df)\n",
        "alpha=0.05\n",
        "if p_value<alpha:\n",
        "    print('Reject the null hypothesis:There is a significant association between device type and satisfaction level.')\n",
        "else:\n",
        "    print('Fail to reject the null hypothesis: There is no significant association between device type and satisfaction level.')"
      ],
      "metadata": {
        "id": "XSqDqrv-pqf9",
        "colab": {
          "base_uri": "https://localhost:8080/"
        },
        "outputId": "430b7669-da33-4913-b752-3db31465b701"
      },
      "execution_count": null,
      "outputs": [
        {
          "output_type": "stream",
          "name": "stdout",
          "text": [
            "Fail to reject the null hypothesis: There is no significant association between device type and satisfaction level.\n"
          ]
        }
      ]
    },
    {
      "cell_type": "code",
      "source": [
        "#just showing the chi square statistic, crtical values, degrees of freedom, p value for better understanding.\n",
        "print('Chi-Square Statistic:',chi2_stat)\n",
        "print('P-Value:',p_value)\n",
        "print('Degrees of Freedom:',dof)\n",
        "print('Expected Frequencies:',expected)"
      ],
      "metadata": {
        "colab": {
          "base_uri": "https://localhost:8080/"
        },
        "id": "_Gch5MFRe9nJ",
        "outputId": "f007a3bf-b0b5-46fe-dc28-120c91698c28"
      },
      "execution_count": null,
      "outputs": [
        {
          "output_type": "stream",
          "name": "stdout",
          "text": [
            "Chi-Square Statistic: 5.638227513227513\n",
            "P-Value: 0.22784371130697179\n",
            "Degrees of Freedom: 4\n",
            "Expected Frequencies: [[ 48.  72.]\n",
            " [ 72. 108.]\n",
            " [ 60.  90.]\n",
            " [ 32.  48.]\n",
            " [ 28.  42.]]\n"
          ]
        }
      ]
    },
    {
      "cell_type": "markdown",
      "source": [
        "Conclusion:\n",
        "\n",
        "Chi-Square Statistic: 5.638\n",
        "\n",
        "Critical Value: 9.488\n",
        "\n",
        "Degrees of Freedom: 4\n",
        "\n",
        "P-Value: 0.228\n",
        "\n",
        "Since the Chi-Square statistic (5.638) is less than the critical value (9.488), we fail to reject the null hypothesis. This means there is no significant association between the type of smart home device purchased and the customer satisfaction level at the 0.05 significance level.\n",
        "\n",
        "[Hypothesis Statement:\n",
        "\n",
        "The null hypothesis (H₀) is that there is no association between device type and customer satisfaction level.\n",
        "\n",
        "The alternative hypothesis (H₁) is that there is an association between the two.]\n",
        "\n",
        "here instead of using the manual formulae to calculate all the values I have directly imported the necessary libraries which have internally performed calculations and given us the right outputs/conclusions.\n"
      ],
      "metadata": {
        "id": "R_MgD3KCe7eT"
      }
    }
  ]
}